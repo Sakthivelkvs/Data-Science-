{
 "cells": [
  {
   "cell_type": "code",
   "execution_count": 1,
   "id": "b0c3de58-1b67-4606-a7b8-7dbc21adae3e",
   "metadata": {},
   "outputs": [],
   "source": [
    "from sklearn.tree import DecisionTreeClassifier\n",
    "from sklearn import tree\n",
    "from sklearn.metrics import accuracy_score,confusion_matrix,ConfusionMatrixDisplay\n",
    "from sklearn.model_selection import train_test_split\n",
    "from sklearn.preprocessing import LabelEncoder\n",
    "import pandas as pd\n",
    "import matplotlib.pyplot as plt"
   ]
  },
  {
   "cell_type": "code",
   "execution_count": 2,
   "id": "3dcc7691-26e7-456d-b6f4-c8095f1ab560",
   "metadata": {},
   "outputs": [
    {
     "name": "stdout",
     "output_type": "stream",
     "text": [
      "[[5.1 3.5 1.4 0.2]\n",
      " [4.9 3.  1.4 0.2]\n",
      " [4.7 3.2 1.3 0.2]\n",
      " [4.6 3.1 1.5 0.2]\n",
      " [5.  3.6 1.4 0.2]\n",
      " [5.4 3.9 1.7 0.4]\n",
      " [4.6 3.4 1.4 0.3]\n",
      " [5.  3.4 1.5 0.2]\n",
      " [4.4 2.9 1.4 0.2]\n",
      " [4.9 3.1 1.5 0.1]\n",
      " [5.4 3.7 1.5 0.2]\n",
      " [4.8 3.4 1.6 0.2]\n",
      " [4.8 3.  1.4 0.1]\n",
      " [4.3 3.  1.1 0.1]\n",
      " [5.8 4.  1.2 0.2]\n",
      " [5.7 4.4 1.5 0.4]\n",
      " [5.4 3.9 1.3 0.4]\n",
      " [5.1 3.5 1.4 0.3]\n",
      " [5.7 3.8 1.7 0.3]\n",
      " [5.1 3.8 1.5 0.3]\n",
      " [5.4 3.4 1.7 0.2]\n",
      " [5.1 3.7 1.5 0.4]\n",
      " [4.6 3.6 1.  0.2]\n",
      " [5.1 3.3 1.7 0.5]\n",
      " [4.8 3.4 1.9 0.2]\n",
      " [5.  3.  1.6 0.2]\n",
      " [5.  3.4 1.6 0.4]\n",
      " [5.2 3.5 1.5 0.2]\n",
      " [5.2 3.4 1.4 0.2]\n",
      " [4.7 3.2 1.6 0.2]\n",
      " [4.8 3.1 1.6 0.2]\n",
      " [5.4 3.4 1.5 0.4]\n",
      " [5.2 4.1 1.5 0.1]\n",
      " [5.5 4.2 1.4 0.2]\n",
      " [4.9 3.1 1.5 0.2]\n",
      " [5.  3.2 1.2 0.2]\n",
      " [5.5 3.5 1.3 0.2]\n",
      " [4.9 3.6 1.4 0.1]\n",
      " [4.4 3.  1.3 0.2]\n",
      " [5.1 3.4 1.5 0.2]\n",
      " [5.  3.5 1.3 0.3]\n",
      " [4.5 2.3 1.3 0.3]\n",
      " [4.4 3.2 1.3 0.2]\n",
      " [5.  3.5 1.6 0.6]\n",
      " [5.1 3.8 1.9 0.4]\n",
      " [4.8 3.  1.4 0.3]\n",
      " [5.1 3.8 1.6 0.2]\n",
      " [4.6 3.2 1.4 0.2]\n",
      " [5.3 3.7 1.5 0.2]\n",
      " [5.  3.3 1.4 0.2]\n",
      " [7.  3.2 4.7 1.4]\n",
      " [6.4 3.2 4.5 1.5]\n",
      " [6.9 3.1 4.9 1.5]\n",
      " [5.5 2.3 4.  1.3]\n",
      " [6.5 2.8 4.6 1.5]\n",
      " [5.7 2.8 4.5 1.3]\n",
      " [6.3 3.3 4.7 1.6]\n",
      " [4.9 2.4 3.3 1. ]\n",
      " [6.6 2.9 4.6 1.3]\n",
      " [5.2 2.7 3.9 1.4]\n",
      " [5.  2.  3.5 1. ]\n",
      " [5.9 3.  4.2 1.5]\n",
      " [6.  2.2 4.  1. ]\n",
      " [6.1 2.9 4.7 1.4]\n",
      " [5.6 2.9 3.6 1.3]\n",
      " [6.7 3.1 4.4 1.4]\n",
      " [5.6 3.  4.5 1.5]\n",
      " [5.8 2.7 4.1 1. ]\n",
      " [6.2 2.2 4.5 1.5]\n",
      " [5.6 2.5 3.9 1.1]\n",
      " [5.9 3.2 4.8 1.8]\n",
      " [6.1 2.8 4.  1.3]\n",
      " [6.3 2.5 4.9 1.5]\n",
      " [6.1 2.8 4.7 1.2]\n",
      " [6.4 2.9 4.3 1.3]\n",
      " [6.6 3.  4.4 1.4]\n",
      " [6.8 2.8 4.8 1.4]\n",
      " [6.7 3.  5.  1.7]\n",
      " [6.  2.9 4.5 1.5]\n",
      " [5.7 2.6 3.5 1. ]\n",
      " [5.5 2.4 3.8 1.1]\n",
      " [5.5 2.4 3.7 1. ]\n",
      " [5.8 2.7 3.9 1.2]\n",
      " [6.  2.7 5.1 1.6]\n",
      " [5.4 3.  4.5 1.5]\n",
      " [6.  3.4 4.5 1.6]\n",
      " [6.7 3.1 4.7 1.5]\n",
      " [6.3 2.3 4.4 1.3]\n",
      " [5.6 3.  4.1 1.3]\n",
      " [5.5 2.5 4.  1.3]\n",
      " [5.5 2.6 4.4 1.2]\n",
      " [6.1 3.  4.6 1.4]\n",
      " [5.8 2.6 4.  1.2]\n",
      " [5.  2.3 3.3 1. ]\n",
      " [5.6 2.7 4.2 1.3]\n",
      " [5.7 3.  4.2 1.2]\n",
      " [5.7 2.9 4.2 1.3]\n",
      " [6.2 2.9 4.3 1.3]\n",
      " [5.1 2.5 3.  1.1]\n",
      " [5.7 2.8 4.1 1.3]\n",
      " [6.3 3.3 6.  2.5]\n",
      " [5.8 2.7 5.1 1.9]\n",
      " [7.1 3.  5.9 2.1]\n",
      " [6.3 2.9 5.6 1.8]\n",
      " [6.5 3.  5.8 2.2]\n",
      " [7.6 3.  6.6 2.1]\n",
      " [4.9 2.5 4.5 1.7]\n",
      " [7.3 2.9 6.3 1.8]\n",
      " [6.7 2.5 5.8 1.8]\n",
      " [7.2 3.6 6.1 2.5]\n",
      " [6.5 3.2 5.1 2. ]\n",
      " [6.4 2.7 5.3 1.9]\n",
      " [6.8 3.  5.5 2.1]\n",
      " [5.7 2.5 5.  2. ]\n",
      " [5.8 2.8 5.1 2.4]\n",
      " [6.4 3.2 5.3 2.3]\n",
      " [6.5 3.  5.5 1.8]\n",
      " [7.7 3.8 6.7 2.2]\n",
      " [7.7 2.6 6.9 2.3]\n",
      " [6.  2.2 5.  1.5]\n",
      " [6.9 3.2 5.7 2.3]\n",
      " [5.6 2.8 4.9 2. ]\n",
      " [7.7 2.8 6.7 2. ]\n",
      " [6.3 2.7 4.9 1.8]\n",
      " [6.7 3.3 5.7 2.1]\n",
      " [7.2 3.2 6.  1.8]\n",
      " [6.2 2.8 4.8 1.8]\n",
      " [6.1 3.  4.9 1.8]\n",
      " [6.4 2.8 5.6 2.1]\n",
      " [7.2 3.  5.8 1.6]\n",
      " [7.4 2.8 6.1 1.9]\n",
      " [7.9 3.8 6.4 2. ]\n",
      " [6.4 2.8 5.6 2.2]\n",
      " [6.3 2.8 5.1 1.5]\n",
      " [6.1 2.6 5.6 1.4]\n",
      " [7.7 3.  6.1 2.3]\n",
      " [6.3 3.4 5.6 2.4]\n",
      " [6.4 3.1 5.5 1.8]\n",
      " [6.  3.  4.8 1.8]\n",
      " [6.9 3.1 5.4 2.1]\n",
      " [6.7 3.1 5.6 2.4]\n",
      " [6.9 3.1 5.1 2.3]\n",
      " [5.8 2.7 5.1 1.9]\n",
      " [6.8 3.2 5.9 2.3]\n",
      " [6.7 3.3 5.7 2.5]\n",
      " [6.7 3.  5.2 2.3]\n",
      " [6.3 2.5 5.  1.9]\n",
      " [6.5 3.  5.2 2. ]\n",
      " [6.2 3.4 5.4 2.3]\n",
      " [5.9 3.  5.1 1.8]]\n",
      "['Setosa' 'Setosa' 'Setosa' 'Setosa' 'Setosa' 'Setosa' 'Setosa' 'Setosa'\n",
      " 'Setosa' 'Setosa' 'Setosa' 'Setosa' 'Setosa' 'Setosa' 'Setosa' 'Setosa'\n",
      " 'Setosa' 'Setosa' 'Setosa' 'Setosa' 'Setosa' 'Setosa' 'Setosa' 'Setosa'\n",
      " 'Setosa' 'Setosa' 'Setosa' 'Setosa' 'Setosa' 'Setosa' 'Setosa' 'Setosa'\n",
      " 'Setosa' 'Setosa' 'Setosa' 'Setosa' 'Setosa' 'Setosa' 'Setosa' 'Setosa'\n",
      " 'Setosa' 'Setosa' 'Setosa' 'Setosa' 'Setosa' 'Setosa' 'Setosa' 'Setosa'\n",
      " 'Setosa' 'Setosa' 'Versicolor' 'Versicolor' 'Versicolor' 'Versicolor'\n",
      " 'Versicolor' 'Versicolor' 'Versicolor' 'Versicolor' 'Versicolor'\n",
      " 'Versicolor' 'Versicolor' 'Versicolor' 'Versicolor' 'Versicolor'\n",
      " 'Versicolor' 'Versicolor' 'Versicolor' 'Versicolor' 'Versicolor'\n",
      " 'Versicolor' 'Versicolor' 'Versicolor' 'Versicolor' 'Versicolor'\n",
      " 'Versicolor' 'Versicolor' 'Versicolor' 'Versicolor' 'Versicolor'\n",
      " 'Versicolor' 'Versicolor' 'Versicolor' 'Versicolor' 'Versicolor'\n",
      " 'Versicolor' 'Versicolor' 'Versicolor' 'Versicolor' 'Versicolor'\n",
      " 'Versicolor' 'Versicolor' 'Versicolor' 'Versicolor' 'Versicolor'\n",
      " 'Versicolor' 'Versicolor' 'Versicolor' 'Versicolor' 'Versicolor'\n",
      " 'Versicolor' 'Virginica' 'Virginica' 'Virginica' 'Virginica' 'Virginica'\n",
      " 'Virginica' 'Virginica' 'Virginica' 'Virginica' 'Virginica' 'Virginica'\n",
      " 'Virginica' 'Virginica' 'Virginica' 'Virginica' 'Virginica' 'Virginica'\n",
      " 'Virginica' 'Virginica' 'Virginica' 'Virginica' 'Virginica' 'Virginica'\n",
      " 'Virginica' 'Virginica' 'Virginica' 'Virginica' 'Virginica' 'Virginica'\n",
      " 'Virginica' 'Virginica' 'Virginica' 'Virginica' 'Virginica' 'Virginica'\n",
      " 'Virginica' 'Virginica' 'Virginica' 'Virginica' 'Virginica' 'Virginica'\n",
      " 'Virginica' 'Virginica' 'Virginica' 'Virginica' 'Virginica' 'Virginica'\n",
      " 'Virginica' 'Virginica' 'Virginica']\n"
     ]
    }
   ],
   "source": [
    "val=pd.read_csv(\"iris.csv\")\n",
    "x=val.iloc[:,:4].values\n",
    "print(x)\n",
    "yval=val.iloc[:,4].values\n",
    "print(yval)"
   ]
  },
  {
   "cell_type": "code",
   "execution_count": 3,
   "id": "b3a89799-d1fc-402f-a2e1-bc87fbf7c7f0",
   "metadata": {},
   "outputs": [
    {
     "name": "stdout",
     "output_type": "stream",
     "text": [
      "[0 0 0 0 0 0 0 0 0 0 0 0 0 0 0 0 0 0 0 0 0 0 0 0 0 0 0 0 0 0 0 0 0 0 0 0 0\n",
      " 0 0 0 0 0 0 0 0 0 0 0 0 0 1 1 1 1 1 1 1 1 1 1 1 1 1 1 1 1 1 1 1 1 1 1 1 1\n",
      " 1 1 1 1 1 1 1 1 1 1 1 1 1 1 1 1 1 1 1 1 1 1 1 1 1 1 2 2 2 2 2 2 2 2 2 2 2\n",
      " 2 2 2 2 2 2 2 2 2 2 2 2 2 2 2 2 2 2 2 2 2 2 2 2 2 2 2 2 2 2 2 2 2 2 2 2 2\n",
      " 2 2]\n"
     ]
    }
   ],
   "source": [
    "le=LabelEncoder()\n",
    "y=le.fit_transform(yval)\n",
    "print(y)\n"
   ]
  },
  {
   "cell_type": "code",
   "execution_count": 4,
   "id": "2c9e1f03-47a7-4467-9a5b-5694f579e8a4",
   "metadata": {},
   "outputs": [
    {
     "name": "stdout",
     "output_type": "stream",
     "text": [
      "[[5.5 2.3 4.  1.3]\n",
      " [6.9 3.1 5.1 2.3]\n",
      " [6.  2.9 4.5 1.5]\n",
      " [6.2 2.9 4.3 1.3]\n",
      " [6.8 3.2 5.9 2.3]\n",
      " [5.  2.3 3.3 1. ]\n",
      " [4.8 3.4 1.6 0.2]\n",
      " [6.1 2.6 5.6 1.4]\n",
      " [5.2 3.4 1.4 0.2]\n",
      " [6.7 3.1 4.4 1.4]\n",
      " [5.1 3.5 1.4 0.2]\n",
      " [5.2 3.5 1.5 0.2]\n",
      " [5.5 3.5 1.3 0.2]\n",
      " [4.9 2.5 4.5 1.7]\n",
      " [6.2 3.4 5.4 2.3]\n",
      " [7.9 3.8 6.4 2. ]\n",
      " [5.4 3.4 1.7 0.2]\n",
      " [6.7 3.1 5.6 2.4]\n",
      " [6.3 3.4 5.6 2.4]\n",
      " [7.6 3.  6.6 2.1]\n",
      " [6.  2.2 5.  1.5]\n",
      " [4.3 3.  1.1 0.1]\n",
      " [4.8 3.1 1.6 0.2]\n",
      " [5.8 2.7 5.1 1.9]\n",
      " [5.7 2.8 4.1 1.3]\n",
      " [5.2 2.7 3.9 1.4]\n",
      " [7.7 3.  6.1 2.3]\n",
      " [6.3 2.7 4.9 1.8]\n",
      " [6.1 2.8 4.  1.3]\n",
      " [5.1 3.7 1.5 0.4]\n",
      " [5.7 2.8 4.5 1.3]\n",
      " [5.4 3.9 1.3 0.4]\n",
      " [5.8 2.8 5.1 2.4]\n",
      " [5.8 2.6 4.  1.2]\n",
      " [5.1 2.5 3.  1.1]\n",
      " [5.7 3.8 1.7 0.3]\n",
      " [5.5 2.4 3.7 1. ]\n",
      " [5.9 3.  4.2 1.5]\n",
      " [6.7 3.1 4.7 1.5]\n",
      " [7.7 2.8 6.7 2. ]\n",
      " [4.9 3.  1.4 0.2]\n",
      " [6.3 3.3 4.7 1.6]\n",
      " [5.1 3.8 1.5 0.3]\n",
      " [5.8 2.7 3.9 1.2]\n",
      " [6.9 3.2 5.7 2.3]\n",
      " [4.9 3.1 1.5 0.1]\n",
      " [5.  2.  3.5 1. ]\n",
      " [4.9 3.1 1.5 0.2]\n",
      " [5.  3.5 1.3 0.3]\n",
      " [5.4 3.7 1.5 0.2]\n",
      " [6.8 3.  5.5 2.1]\n",
      " [6.3 3.3 6.  2.5]\n",
      " [5.  3.4 1.6 0.4]\n",
      " [5.2 4.1 1.5 0.1]\n",
      " [6.3 2.5 5.  1.9]\n",
      " [7.7 2.6 6.9 2.3]\n",
      " [6.  2.2 4.  1. ]\n",
      " [7.2 3.6 6.1 2.5]\n",
      " [4.9 2.4 3.3 1. ]\n",
      " [6.1 2.8 4.7 1.2]\n",
      " [6.5 3.  5.2 2. ]\n",
      " [5.1 3.5 1.4 0.3]\n",
      " [7.4 2.8 6.1 1.9]\n",
      " [5.9 3.  5.1 1.8]\n",
      " [6.4 2.7 5.3 1.9]\n",
      " [4.4 2.9 1.4 0.2]\n",
      " [5.6 2.8 4.9 2. ]\n",
      " [5.1 3.4 1.5 0.2]\n",
      " [5.  3.3 1.4 0.2]\n",
      " [5.7 2.6 3.5 1. ]\n",
      " [6.9 3.1 5.4 2.1]\n",
      " [5.5 2.6 4.4 1.2]\n",
      " [6.3 2.8 5.1 1.5]\n",
      " [7.  3.2 4.7 1.4]\n",
      " [6.8 2.8 4.8 1.4]\n",
      " [6.5 3.2 5.1 2. ]\n",
      " [6.9 3.1 4.9 1.5]\n",
      " [5.5 2.4 3.8 1.1]\n",
      " [5.6 3.  4.5 1.5]\n",
      " [6.  3.  4.8 1.8]\n",
      " [6.  2.7 5.1 1.6]\n",
      " [5.8 2.7 5.1 1.9]\n",
      " [5.9 3.2 4.8 1.8]\n",
      " [5.1 3.8 1.6 0.2]\n",
      " [6.2 2.2 4.5 1.5]\n",
      " [5.6 3.  4.1 1.3]\n",
      " [5.6 2.5 3.9 1.1]\n",
      " [5.8 2.7 4.1 1. ]\n",
      " [6.4 3.1 5.5 1.8]\n",
      " [6.6 2.9 4.6 1.3]\n",
      " [5.5 4.2 1.4 0.2]\n",
      " [4.4 3.  1.3 0.2]\n",
      " [6.3 2.9 5.6 1.8]\n",
      " [6.4 3.2 4.5 1.5]\n",
      " [7.3 2.9 6.3 1.8]\n",
      " [5.  3.6 1.4 0.2]\n",
      " [7.1 3.  5.9 2.1]\n",
      " [4.9 3.6 1.4 0.1]\n",
      " [6.5 3.  5.5 1.8]\n",
      " [6.7 3.3 5.7 2.1]\n",
      " [5.4 3.4 1.5 0.4]\n",
      " [6.1 2.9 4.7 1.4]\n",
      " [4.6 3.2 1.4 0.2]\n",
      " [6.7 3.  5.2 2.3]\n",
      " [5.7 3.  4.2 1.2]\n",
      " [5.  3.4 1.5 0.2]\n",
      " [6.5 3.  5.8 2.2]\n",
      " [6.6 3.  4.4 1.4]\n",
      " [5.  3.5 1.6 0.6]\n",
      " [4.6 3.6 1.  0.2]\n",
      " [6.3 2.5 4.9 1.5]\n",
      " [5.7 4.4 1.5 0.4]]\n",
      "\n",
      "\n",
      "[1 2 1 1 2 1 0 2 0 1 0 0 0 2 2 2 0 2 2 2 2 0 0 2 1 1 2 2 1 0 1 0 2 1 1 0 1\n",
      " 1 1 2 0 1 0 1 2 0 1 0 0 0 2 2 0 0 2 2 1 2 1 1 2 0 2 2 2 0 2 0 0 1 2 1 2 1\n",
      " 1 2 1 1 1 2 1 2 1 0 1 1 1 1 2 1 0 0 2 1 2 0 2 0 2 2 0 1 0 2 1 0 2 1 0 0 1\n",
      " 0]\n",
      "\n",
      "\n",
      "[[4.6 3.4 1.4 0.3]\n",
      " [4.6 3.1 1.5 0.2]\n",
      " [5.7 2.5 5.  2. ]\n",
      " [4.8 3.  1.4 0.1]\n",
      " [4.8 3.4 1.9 0.2]\n",
      " [7.2 3.  5.8 1.6]\n",
      " [5.  3.  1.6 0.2]\n",
      " [6.7 2.5 5.8 1.8]\n",
      " [6.4 2.8 5.6 2.1]\n",
      " [4.8 3.  1.4 0.3]\n",
      " [5.3 3.7 1.5 0.2]\n",
      " [4.4 3.2 1.3 0.2]\n",
      " [5.  3.2 1.2 0.2]\n",
      " [5.4 3.9 1.7 0.4]\n",
      " [6.  3.4 4.5 1.6]\n",
      " [6.5 2.8 4.6 1.5]\n",
      " [4.5 2.3 1.3 0.3]\n",
      " [5.7 2.9 4.2 1.3]\n",
      " [6.7 3.3 5.7 2.5]\n",
      " [5.5 2.5 4.  1.3]\n",
      " [6.7 3.  5.  1.7]\n",
      " [6.4 2.9 4.3 1.3]\n",
      " [6.4 3.2 5.3 2.3]\n",
      " [5.6 2.7 4.2 1.3]\n",
      " [6.3 2.3 4.4 1.3]\n",
      " [4.7 3.2 1.6 0.2]\n",
      " [4.7 3.2 1.3 0.2]\n",
      " [6.1 3.  4.9 1.8]\n",
      " [5.1 3.8 1.9 0.4]\n",
      " [7.2 3.2 6.  1.8]\n",
      " [6.2 2.8 4.8 1.8]\n",
      " [5.1 3.3 1.7 0.5]\n",
      " [5.6 2.9 3.6 1.3]\n",
      " [7.7 3.8 6.7 2.2]\n",
      " [5.4 3.  4.5 1.5]\n",
      " [5.8 4.  1.2 0.2]\n",
      " [6.4 2.8 5.6 2.2]\n",
      " [6.1 3.  4.6 1.4]]\n",
      "\n",
      "\n",
      "[0 0 2 0 0 2 0 2 2 0 0 0 0 0 1 1 0 1 2 1 1 1 2 1 1 0 0 2 0 2 2 0 1 2 1 0 2\n",
      " 1]\n",
      "\n",
      "\n"
     ]
    }
   ],
   "source": [
    "xtrain,xtest,ytrain,ytest=train_test_split(x,y,test_size=0.25,random_state=2)\n",
    "print(xtrain)\n",
    "print(\"\\n\")\n",
    "print(ytrain)\n",
    "print(\"\\n\")\n",
    "print(xtest)\n",
    "print(\"\\n\")\n",
    "print(ytest)\n",
    "print(\"\\n\")"
   ]
  },
  {
   "cell_type": "code",
   "execution_count": 5,
   "id": "17bc52ba-23b6-4eb6-823b-11adba28b078",
   "metadata": {},
   "outputs": [
    {
     "name": "stdout",
     "output_type": "stream",
     "text": [
      "[0 0 2 0 0 2 0 2 2 0 0 0 0 0 1 1 0 1 2 1 1 1 2 1 1 0 0 2 0 2 2 0 1 2 1 0 2\n",
      " 1]\n",
      "[0 0 2 0 0 1 0 2 2 0 0 0 0 0 1 1 0 1 2 1 2 1 2 1 1 0 0 2 0 2 2 0 1 2 1 0 2\n",
      " 1]\n"
     ]
    }
   ],
   "source": [
    "dt=DecisionTreeClassifier(criterion=\"entropy\",splitter=\"best\",min_samples_split=2,min_samples_leaf=1)\n",
    "dt.fit(xtrain,ytrain)\n",
    "ypredict=dt.predict(xtest)\n",
    "print(ytest)\n",
    "print(ypredict)"
   ]
  },
  {
   "cell_type": "code",
   "execution_count": 6,
   "id": "cd12b1a2-8d7b-4740-9e0b-044dc4edd51d",
   "metadata": {},
   "outputs": [
    {
     "name": "stdout",
     "output_type": "stream",
     "text": [
      "0.9473684210526315\n"
     ]
    }
   ],
   "source": [
    "print(accuracy_score(ytest,ypredict))"
   ]
  },
  {
   "cell_type": "code",
   "execution_count": 7,
   "id": "b3ea99f2-b3f8-4d3c-9797-a647bc0fb05e",
   "metadata": {},
   "outputs": [
    {
     "data": {
      "image/png": "[encoded data removed]",
      "text/plain": [
       "<Figure size 1000x1500 with 1 Axes>"
      ]
     },
     "metadata": {},
     "output_type": "display_data"
    }
   ],
   "source": [
    "f=plt.figure(figsize=(10,15))\n",
    "tree.plot_tree(dt)\n",
    "plt.show(f)"
   ]
  },
  {
   "cell_type": "code",
   "execution_count": 8,
   "id": "9336457f-102e-45f9-8e1e-851fe57cfcb0",
   "metadata": {},
   "outputs": [
    {
     "name": "stdout",
     "output_type": "stream",
     "text": [
      "<bound method DataFrame.info of      sepal.length  sepal.width  petal.length  petal.width    variety\n",
      "0             5.1          3.5           1.4          0.2     Setosa\n",
      "1             4.9          3.0           1.4          0.2     Setosa\n",
      "2             4.7          3.2           1.3          0.2     Setosa\n",
      "3             4.6          3.1           1.5          0.2     Setosa\n",
      "4             5.0          3.6           1.4          0.2     Setosa\n",
      "..            ...          ...           ...          ...        ...\n",
      "145           6.7          3.0           5.2          2.3  Virginica\n",
      "146           6.3          2.5           5.0          1.9  Virginica\n",
      "147           6.5          3.0           5.2          2.0  Virginica\n",
      "148           6.2          3.4           5.4          2.3  Virginica\n",
      "149           5.9          3.0           5.1          1.8  Virginica\n",
      "\n",
      "[150 rows x 5 columns]>\n"
     ]
    }
   ],
   "source": [
    "print(val.info)"
   ]
  },
  {
   "cell_type": "code",
   "execution_count": 9,
   "id": "09fd8fc5-5165-440a-ad14-6a832a51cc1d",
   "metadata": {},
   "outputs": [
    {
     "name": "stdout",
     "output_type": "stream",
     "text": [
      "<bound method NDFrame.describe of      sepal.length  sepal.width  petal.length  petal.width    variety\n",
      "0             5.1          3.5           1.4          0.2     Setosa\n",
      "1             4.9          3.0           1.4          0.2     Setosa\n",
      "2             4.7          3.2           1.3          0.2     Setosa\n",
      "3             4.6          3.1           1.5          0.2     Setosa\n",
      "4             5.0          3.6           1.4          0.2     Setosa\n",
      "..            ...          ...           ...          ...        ...\n",
      "145           6.7          3.0           5.2          2.3  Virginica\n",
      "146           6.3          2.5           5.0          1.9  Virginica\n",
      "147           6.5          3.0           5.2          2.0  Virginica\n",
      "148           6.2          3.4           5.4          2.3  Virginica\n",
      "149           5.9          3.0           5.1          1.8  Virginica\n",
      "\n",
      "[150 rows x 5 columns]>\n"
     ]
    }
   ],
   "source": [
    "print(val.describe)"
   ]
  },
  {
   "cell_type": "code",
   "execution_count": 10,
   "id": "e844971a-943a-4e79-8529-480042b32d99",
   "metadata": {},
   "outputs": [
    {
     "name": "stdout",
     "output_type": "stream",
     "text": [
      "   sepal.length  sepal.width  petal.length  petal.width variety\n",
      "0           5.1          3.5           1.4          0.2  Setosa\n",
      "1           4.9          3.0           1.4          0.2  Setosa\n",
      "2           4.7          3.2           1.3          0.2  Setosa\n",
      "3           4.6          3.1           1.5          0.2  Setosa\n",
      "4           5.0          3.6           1.4          0.2  Setosa\n"
     ]
    }
   ],
   "source": [
    "print(val.head(5))"
   ]
  },
  {
   "cell_type": "code",
   "execution_count": 11,
   "id": "08258925-8a03-4202-b99f-c22de15956e2",
   "metadata": {},
   "outputs": [
    {
     "name": "stdout",
     "output_type": "stream",
     "text": [
      "     sepal.length  sepal.width  petal.length  petal.width    variety\n",
      "147           6.5          3.0           5.2          2.0  Virginica\n",
      "148           6.2          3.4           5.4          2.3  Virginica\n",
      "149           5.9          3.0           5.1          1.8  Virginica\n"
     ]
    }
   ],
   "source": [
    "print(val.tail(3))"
   ]
  },
  {
   "cell_type": "code",
   "execution_count": 12,
   "id": "d39307f4-bfc9-4951-96c9-4c98c04077a9",
   "metadata": {},
   "outputs": [
    {
     "name": "stdout",
     "output_type": "stream",
     "text": [
      "(150, 5)\n"
     ]
    }
   ],
   "source": [
    "print(val.shape)"
   ]
  },
  {
   "cell_type": "code",
   "execution_count": null,
   "id": "8aca2ca4-e3db-4d8b-8287-212ae2c55ffc",
   "metadata": {},
   "outputs": [],
   "source": []
  }
 ],
 "metadata": {
  "kernelspec": {
   "display_name": "Python 3 (ipykernel)",
   "language": "python",
   "name": "python3"
  },
  "language_info": {
   "codemirror_mode": {
    "name": "ipython",
    "version": 3
   },
   "file_extension": ".py",
   "mimetype": "text/x-python",
   "name": "python",
   "nbconvert_exporter": "python",
   "pygments_lexer": "ipython3",
   "version": "3.12.1"
  }
 },
 "nbformat": 4,
 "nbformat_minor": 5
}
