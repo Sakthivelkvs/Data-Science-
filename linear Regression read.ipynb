{
 "cells": [
  {
   "cell_type": "code",
   "execution_count": 1,
   "id": "e92acfe6-e051-4398-96ba-d61a4e7a43b6",
   "metadata": {},
   "outputs": [],
   "source": [
    "from sklearn.linear_model import LinearRegression\n",
    "from sklearn.metrics import mean_squared_error,r2_score\n",
    "from sklearn.preprocessing import LabelEncoder\n",
    "from sklearn.model_selection import train_test_split\n",
    "import matplotlib.pyplot as plt\n",
    "import pandas as pds"
   ]
  },
  {
   "cell_type": "code",
   "execution_count": 8,
   "id": "e4d3d5d0-3636-49a8-8926-8cb6a0699aec",
   "metadata": {},
   "outputs": [
    {
     "name": "stdout",
     "output_type": "stream",
     "text": [
      "       sepal.length  sepal.width  petal.length  petal.width\n",
      "count    150.000000   150.000000    150.000000   150.000000\n",
      "mean       5.843333     3.057333      3.758000     1.199333\n",
      "std        0.828066     0.435866      1.765298     0.762238\n",
      "min        4.300000     2.000000      1.000000     0.100000\n",
      "25%        5.100000     2.800000      1.600000     0.300000\n",
      "50%        5.800000     3.000000      4.350000     1.300000\n",
      "75%        6.400000     3.300000      5.100000     1.800000\n",
      "max        7.900000     4.400000      6.900000     2.500000\n",
      "[3.5 3.  3.2 3.1 3.6 3.9 3.4 3.4 2.9 3.1 3.7 3.4 3.  3.  4.  4.4 3.9 3.5\n",
      " 3.8 3.8 3.4 3.7 3.6 3.3 3.4 3.  3.4 3.5 3.4 3.2 3.1 3.4 4.1 4.2 3.1 3.2\n",
      " 3.5 3.6 3.  3.4 3.5 2.3 3.2 3.5 3.8 3.  3.8 3.2 3.7 3.3 3.2 3.2 3.1 2.3\n",
      " 2.8 2.8 3.3 2.4 2.9 2.7 2.  3.  2.2 2.9 2.9 3.1 3.  2.7 2.2 2.5 3.2 2.8\n",
      " 2.5 2.8 2.9 3.  2.8 3.  2.9 2.6 2.4 2.4 2.7 2.7 3.  3.4 3.1 2.3 3.  2.5\n",
      " 2.6 3.  2.6 2.3 2.7 3.  2.9 2.9 2.5 2.8 3.3 2.7 3.  2.9 3.  3.  2.5 2.9\n",
      " 2.5 3.6 3.2 2.7 3.  2.5 2.8 3.2 3.  3.8 2.6 2.2 3.2 2.8 2.8 2.7 3.3 3.2\n",
      " 2.8 3.  2.8 3.  2.8 3.8 2.8 2.8 2.6 3.  3.4 3.1 3.  3.1 3.1 3.1 2.7 3.2\n",
      " 3.3 3.  2.5 3.  3.4 3. ]\n",
      "[[3.5]\n",
      " [3. ]\n",
      " [3.2]\n",
      " [3.1]\n",
      " [3.6]\n",
      " [3.9]\n",
      " [3.4]\n",
      " [3.4]\n",
      " [2.9]\n",
      " [3.1]\n",
      " [3.7]\n",
      " [3.4]\n",
      " [3. ]\n",
      " [3. ]\n",
      " [4. ]\n",
      " [4.4]\n",
      " [3.9]\n",
      " [3.5]\n",
      " [3.8]\n",
      " [3.8]\n",
      " [3.4]\n",
      " [3.7]\n",
      " [3.6]\n",
      " [3.3]\n",
      " [3.4]\n",
      " [3. ]\n",
      " [3.4]\n",
      " [3.5]\n",
      " [3.4]\n",
      " [3.2]\n",
      " [3.1]\n",
      " [3.4]\n",
      " [4.1]\n",
      " [4.2]\n",
      " [3.1]\n",
      " [3.2]\n",
      " [3.5]\n",
      " [3.6]\n",
      " [3. ]\n",
      " [3.4]\n",
      " [3.5]\n",
      " [2.3]\n",
      " [3.2]\n",
      " [3.5]\n",
      " [3.8]\n",
      " [3. ]\n",
      " [3.8]\n",
      " [3.2]\n",
      " [3.7]\n",
      " [3.3]\n",
      " [3.2]\n",
      " [3.2]\n",
      " [3.1]\n",
      " [2.3]\n",
      " [2.8]\n",
      " [2.8]\n",
      " [3.3]\n",
      " [2.4]\n",
      " [2.9]\n",
      " [2.7]\n",
      " [2. ]\n",
      " [3. ]\n",
      " [2.2]\n",
      " [2.9]\n",
      " [2.9]\n",
      " [3.1]\n",
      " [3. ]\n",
      " [2.7]\n",
      " [2.2]\n",
      " [2.5]\n",
      " [3.2]\n",
      " [2.8]\n",
      " [2.5]\n",
      " [2.8]\n",
      " [2.9]\n",
      " [3. ]\n",
      " [2.8]\n",
      " [3. ]\n",
      " [2.9]\n",
      " [2.6]\n",
      " [2.4]\n",
      " [2.4]\n",
      " [2.7]\n",
      " [2.7]\n",
      " [3. ]\n",
      " [3.4]\n",
      " [3.1]\n",
      " [2.3]\n",
      " [3. ]\n",
      " [2.5]\n",
      " [2.6]\n",
      " [3. ]\n",
      " [2.6]\n",
      " [2.3]\n",
      " [2.7]\n",
      " [3. ]\n",
      " [2.9]\n",
      " [2.9]\n",
      " [2.5]\n",
      " [2.8]\n",
      " [3.3]\n",
      " [2.7]\n",
      " [3. ]\n",
      " [2.9]\n",
      " [3. ]\n",
      " [3. ]\n",
      " [2.5]\n",
      " [2.9]\n",
      " [2.5]\n",
      " [3.6]\n",
      " [3.2]\n",
      " [2.7]\n",
      " [3. ]\n",
      " [2.5]\n",
      " [2.8]\n",
      " [3.2]\n",
      " [3. ]\n",
      " [3.8]\n",
      " [2.6]\n",
      " [2.2]\n",
      " [3.2]\n",
      " [2.8]\n",
      " [2.8]\n",
      " [2.7]\n",
      " [3.3]\n",
      " [3.2]\n",
      " [2.8]\n",
      " [3. ]\n",
      " [2.8]\n",
      " [3. ]\n",
      " [2.8]\n",
      " [3.8]\n",
      " [2.8]\n",
      " [2.8]\n",
      " [2.6]\n",
      " [3. ]\n",
      " [3.4]\n",
      " [3.1]\n",
      " [3. ]\n",
      " [3.1]\n",
      " [3.1]\n",
      " [3.1]\n",
      " [2.7]\n",
      " [3.2]\n",
      " [3.3]\n",
      " [3. ]\n",
      " [2.5]\n",
      " [3. ]\n",
      " [3.4]\n",
      " [3. ]]\n"
     ]
    }
   ],
   "source": [
    "var=pds.read_csv(\"iris.csv\")\n",
    "print(var.describe())\n",
    "xval=var.iloc[:,1].values\n",
    "print(xval)\n",
    "x=xval.reshape(-1,1)\n",
    "print(x)\n"
   ]
  },
  {
   "cell_type": "code",
   "execution_count": 7,
   "id": "c8600ca3-640d-4687-b7e0-aad88ab1e210",
   "metadata": {},
   "outputs": [
    {
     "name": "stdout",
     "output_type": "stream",
     "text": [
      "0         Setosa\n",
      "1         Setosa\n",
      "2         Setosa\n",
      "3         Setosa\n",
      "4         Setosa\n",
      "         ...    \n",
      "145    Virginica\n",
      "146    Virginica\n",
      "147    Virginica\n",
      "148    Virginica\n",
      "149    Virginica\n",
      "Name: variety, Length: 150, dtype: object\n"
     ]
    }
   ],
   "source": [
    "y=var.iloc[:,4]\n",
    "print(y)"
   ]
  },
  {
   "cell_type": "code",
   "execution_count": 10,
   "id": "607f3db3-e7d4-4fb2-98ee-ca7ff83bf46c",
   "metadata": {},
   "outputs": [
    {
     "name": "stdout",
     "output_type": "stream",
     "text": [
      "[0 0 0 0 0 0 0 0 0 0 0 0 0 0 0 0 0 0 0 0 0 0 0 0 0 0 0 0 0 0 0 0 0 0 0 0 0\n",
      " 0 0 0 0 0 0 0 0 0 0 0 0 0 1 1 1 1 1 1 1 1 1 1 1 1 1 1 1 1 1 1 1 1 1 1 1 1\n",
      " 1 1 1 1 1 1 1 1 1 1 1 1 1 1 1 1 1 1 1 1 1 1 1 1 1 1 2 2 2 2 2 2 2 2 2 2 2\n",
      " 2 2 2 2 2 2 2 2 2 2 2 2 2 2 2 2 2 2 2 2 2 2 2 2 2 2 2 2 2 2 2 2 2 2 2 2 2\n",
      " 2 2]\n"
     ]
    }
   ],
   "source": [
    "le=LabelEncoder()\n",
    "y_new=le.fit_transform(y)\n",
    "print(y_new)"
   ]
  },
  {
   "cell_type": "code",
   "execution_count": 12,
   "id": "d2922d9c-de64-42a8-9157-8cbcf9850ba1",
   "metadata": {},
   "outputs": [
    {
     "name": "stdout",
     "output_type": "stream",
     "text": [
      "[[2.8]\n",
      " [2.5]\n",
      " [3. ]\n",
      " [3.5]\n",
      " [2.2]\n",
      " [2.9]\n",
      " [2.9]\n",
      " [2.6]\n",
      " [3.8]\n",
      " [3.6]\n",
      " [3. ]\n",
      " [2.7]\n",
      " [3.4]\n",
      " [3.5]\n",
      " [3.8]\n",
      " [3.1]\n",
      " [2.9]\n",
      " [2.8]\n",
      " [2.8]\n",
      " [3.4]\n",
      " [2.8]\n",
      " [3. ]\n",
      " [3.4]\n",
      " [2.5]\n",
      " [2.7]\n",
      " [3. ]\n",
      " [3.2]\n",
      " [3. ]\n",
      " [3.4]\n",
      " [3. ]\n",
      " [3.2]\n",
      " [3.1]\n",
      " [2.8]\n",
      " [3.3]\n",
      " [3. ]\n",
      " [3.8]\n",
      " [2.2]\n",
      " [2.9]\n",
      " [3. ]\n",
      " [2.3]\n",
      " [3.3]\n",
      " [2.5]\n",
      " [3.7]\n",
      " [3.1]\n",
      " [4.1]\n",
      " [3.3]\n",
      " [3. ]\n",
      " [2.7]\n",
      " [2.7]\n",
      " [3. ]\n",
      " [3.5]\n",
      " [3.3]\n",
      " [2.7]\n",
      " [3.1]\n",
      " [2.8]\n",
      " [2.9]\n",
      " [3. ]\n",
      " [3. ]\n",
      " [2.3]\n",
      " [3.4]\n",
      " [3.6]\n",
      " [2.9]\n",
      " [4.4]\n",
      " [2.7]\n",
      " [2.3]\n",
      " [2.4]\n",
      " [3.1]\n",
      " [3.4]\n",
      " [2.8]\n",
      " [3.5]\n",
      " [3.4]\n",
      " [3.4]\n",
      " [2.8]\n",
      " [3.2]\n",
      " [3.3]\n",
      " [3.7]\n",
      " [3.2]\n",
      " [3.1]\n",
      " [2.7]\n",
      " [3.1]\n",
      " [3. ]\n",
      " [2.5]\n",
      " [3.2]\n",
      " [3.2]\n",
      " [3. ]\n",
      " [3. ]\n",
      " [2.9]\n",
      " [2.4]\n",
      " [2. ]\n",
      " [3.5]\n",
      " [3. ]\n",
      " [2.4]\n",
      " [3.6]\n",
      " [3. ]\n",
      " [2.9]\n",
      " [3.4]\n",
      " [3.1]\n",
      " [2.9]\n",
      " [2.2]\n",
      " [3.2]\n",
      " [2.7]\n",
      " [3.4]\n",
      " [3. ]\n",
      " [2.6]\n",
      " [2.8]\n",
      " [3. ]\n",
      " [2.6]\n",
      " [2.8]\n",
      " [3.1]\n",
      " [2.5]\n",
      " [3.1]\n",
      " [3.6]]\n",
      "[1 2 2 0 2 2 1 2 0 0 0 1 0 0 2 2 2 2 2 1 2 1 0 2 2 0 0 2 0 2 2 1 1 2 2 0 1\n",
      " 1 2 1 2 1 0 0 0 2 0 1 2 2 0 0 1 0 2 1 2 2 1 2 2 1 0 1 0 1 1 0 1 0 0 2 2 2\n",
      " 0 0 1 0 2 0 2 2 0 2 0 1 0 1 1 0 0 1 0 1 1 0 1 1 1 1 2 0 0 2 1 2 1 2 2 1 2\n",
      " 0]\n"
     ]
    }
   ],
   "source": [
    "xtrain,xtest,ytrain,ytest=train_test_split(x,y_new,test_size=0.25,random_state=1)\n",
    "print(xtrain)\n",
    "print(ytrain)"
   ]
  },
  {
   "cell_type": "code",
   "execution_count": 19,
   "id": "1967af07-769c-4117-b8e3-fcbddce023f6",
   "metadata": {},
   "outputs": [
    {
     "name": "stdout",
     "output_type": "stream",
     "text": [
      "[0 1 1 0 2 1 2 0 0 2 1 0 2 1 1 0 1 1 0 0 1 1 1 0 2 1 0 0 1 2 1 2 1 2 2 0 1\n",
      " 0]\n",
      "[0.28686636 1.43894009 1.05491551 0.36367127 0.44047619 0.82450077\n",
      " 0.9781106  0.44047619 0.90130568 0.90130568 1.28533026 0.36367127\n",
      " 1.05491551 0.90130568 1.13172043 0.90130568 1.36213518 1.05491551\n",
      " 0.74769585 0.90130568 1.36213518 1.05491551 1.05491551 0.67089094\n",
      " 0.90130568 1.20852535 0.13325653 0.44047619 1.20852535 1.43894009\n",
      " 1.05491551 1.05491551 1.43894009 1.20852535 1.20852535 0.51728111\n",
      " 1.59254992 0.74769585]\n"
     ]
    }
   ],
   "source": [
    "li_reg=LinearRegression()\n",
    "li_reg.fit(xtrain,ytrain)\n",
    "ypredict=li_reg.predict(xtest)\n",
    "print(ytest)\n",
    "print(ypredict)\n"
   ]
  },
  {
   "cell_type": "code",
   "execution_count": 15,
   "id": "bea7d7ac-5844-419a-bc14-3646cfae9f67",
   "metadata": {},
   "outputs": [
    {
     "name": "stdout",
     "output_type": "stream",
     "text": [
      "[-0.76804916]\n",
      "3.359062980030722\n"
     ]
    }
   ],
   "source": [
    "print(li_reg.coef_)\n",
    "print(li_reg.intercept_)"
   ]
  },
  {
   "cell_type": "code",
   "execution_count": 25,
   "id": "b31f9929-f2a7-4644-9ecd-ca93b0dbbda0",
   "metadata": {},
   "outputs": [
    {
     "data": {
      "text/plain": [
       "Text(0, 0.5, 'Predicted Value')"
      ]
     },
     "execution_count": 25,
     "metadata": {},
     "output_type": "execute_result"
    },
    {
     "data": {
      "image/png": "[encoded data removed]",
      "text/plain": [
       "<Figure size 640x480 with 1 Axes>"
      ]
     },
     "metadata": {},
     "output_type": "display_data"
    }
   ],
   "source": [
    "plt.scatter(xtest,ytest,marker=\"*\",color=\"red\")\n",
    "plt.plot(xtest,ypredict,marker=\".\",color=\"green\")\n",
    "plt.xlabel(\"Actual Value\")\n",
    "plt.ylabel(\"Predicted Value\")\n"
   ]
  },
  {
   "cell_type": "code",
   "execution_count": 26,
   "id": "d7934e6f-edd8-4e9c-a9e4-36e2f44b8a26",
   "metadata": {},
   "outputs": [
    {
     "name": "stdout",
     "output_type": "stream",
     "text": [
      "0.40816229507667395\n"
     ]
    }
   ],
   "source": [
    "print(mean_squared_error(ytest,ypredict))"
   ]
  },
  {
   "cell_type": "code",
   "execution_count": 27,
   "id": "231d970a-4a42-4670-b621-4e4b44258350",
   "metadata": {},
   "outputs": [
    {
     "name": "stdout",
     "output_type": "stream",
     "text": [
      "0.28123615354790565\n"
     ]
    }
   ],
   "source": [
    "print(r2_score(ytest,ypredict))"
   ]
  },
  {
   "cell_type": "code",
   "execution_count": 28,
   "id": "5a30a40c-e09d-4fb1-b2f3-2f89290ba6cd",
   "metadata": {},
   "outputs": [
    {
     "name": "stdout",
     "output_type": "stream",
     "text": [
      "   sepal.length  sepal.width  petal.length  petal.width variety\n",
      "0           5.1          3.5           1.4          0.2  Setosa\n",
      "1           4.9          3.0           1.4          0.2  Setosa\n",
      "2           4.7          3.2           1.3          0.2  Setosa\n",
      "3           4.6          3.1           1.5          0.2  Setosa\n"
     ]
    }
   ],
   "source": [
    "print(var.head(4))"
   ]
  },
  {
   "cell_type": "code",
   "execution_count": 37,
   "id": "1b8fcf98-c163-4677-889d-b86d516d18f9",
   "metadata": {},
   "outputs": [
    {
     "name": "stdout",
     "output_type": "stream",
     "text": [
      "[[5.1 3.5 1.4 0.2]\n",
      " [4.9 3.  1.4 0.2]\n",
      " [4.7 3.2 1.3 0.2]\n",
      " [4.6 3.1 1.5 0.2]\n",
      " [5.  3.6 1.4 0.2]]\n"
     ]
    }
   ],
   "source": [
    "sl=var.iloc[:5,0:4].values\n",
    "print(sl)\n"
   ]
  },
  {
   "cell_type": "code",
   "execution_count": 41,
   "id": "03f22c4b-b999-4ade-9f22-0fd4f0ea6d38",
   "metadata": {},
   "outputs": [
    {
     "name": "stdout",
     "output_type": "stream",
     "text": [
      "['Setosa' 'Setosa' 'Setosa' 'Setosa' 'Setosa']\n"
     ]
    }
   ],
   "source": [
    "print(var.iloc[:5,4].values)"
   ]
  },
  {
   "cell_type": "code",
   "execution_count": null,
   "id": "66fda44e-e2d0-4152-a8c1-c26703a67d04",
   "metadata": {},
   "outputs": [],
   "source": []
  }
 ],
 "metadata": {
  "kernelspec": {
   "display_name": "Python 3 (ipykernel)",
   "language": "python",
   "name": "python3"
  },
  "language_info": {
   "codemirror_mode": {
    "name": "ipython",
    "version": 3
   },
   "file_extension": ".py",
   "mimetype": "text/x-python",
   "name": "python",
   "nbconvert_exporter": "python",
   "pygments_lexer": "ipython3",
   "version": "3.12.1"
  }
 },
 "nbformat": 4,
 "nbformat_minor": 5
}
